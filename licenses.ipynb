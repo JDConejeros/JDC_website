{
  "cells": [
    {
      "cell_type": "raw",
      "metadata": {},
      "source": [
        "---\n",
        "title: \"Licencia de código abierto\"\n",
        "---"
      ],
      "id": "35b4342c"
    },
    {
      "cell_type": "markdown",
      "metadata": {},
      "source": [
        "El código fuente de esta página se publica bajo una licencia internacional [GNU GPL v2](https://www.gnu.org/licenses/old-licenses/gpl-2.0.en.html). La sociedad necesita que la investigación y la ciencia sean gratuitas, abiertas y transparentes. La reproducibilidad, el intercambio libre de conocimiento y la igualdad de condiciones al reducir los costos son fundamentales para responder a los desafíos actuales.\n",
        "\n",
        "Las siguientes licencias se aplican al texto, las imágenes, el código y los datos de este blog. Mi objetivo es minimizar los obstáculos legales a la difusión, el intercambio, el uso y la reutilización de este trabajo. Sin embargo, los derechos existentes de los autores cuya obra se cita están reservados a dichos autores.\n",
        "\n",
        "-   [GNU GPL v2](https://www.gnu.org/licenses/old-licenses/gpl-2.0.en.html) para código\n",
        "-   [CC0](https://wiki.creativecommons.org/wiki/CC0_use_for_data) para datos\n",
        "-   [Unsplash](https://unsplash.com/es/licencia) para imágenes\n",
        "\n",
        "\n",
        "::: {.callout-note appearance=\"simple\"}\n",
        "\n",
        "## Importante\n",
        "\n",
        "\n",
        "```{css, echo = FALSE}\n",
        ".center {\n",
        "  text-align: center !important\n",
        "}\n",
        "```\n",
        "\n",
        "\n",
        "{{< fa brands github >}} Puedes encontrar el código de fuente en el siguiente enlace: \n",
        "\n",
        "<https://github.com/JDConejeros/JDC_website>\n",
        "\n",
        ":::\n",
        "\n",
        "::: {.center}\n",
        "\n",
        "\n",
        "{{< fa brands creative-commons >}} {{< fa brands creative-commons-by {{< fa brands creative-commons-sa >}}\n",
        "\n",
        "\n",
        "\n",
        ":::"
      ],
      "id": "84e5bc8f"
    }
  ],
  "metadata": {
    "kernelspec": {
      "display_name": "Python 3",
      "language": "python",
      "name": "python3"
    }
  },
  "nbformat": 4,
  "nbformat_minor": 5
}