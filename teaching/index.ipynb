{
  "cells": [
    {
      "cell_type": "raw",
      "metadata": {},
      "source": [
        "---\n",
        "title: \"Docencia\"\n",
        "listing:\n",
        "  - id: class_23\n",
        "    contents: year_2023.yml\n",
        "    sort: \"date desc\"\n",
        "    template: ../html/listing.ejs\n",
        "title-block-banner: \"#00916c\"\n",
        "page-layout: full\n",
        "toc: true\n",
        "toc-location: right\n",
        "toc-title: Año académico\n",
        "---"
      ],
      "id": "e8274f87"
    },
    {
      "cell_type": "markdown",
      "metadata": {},
      "source": [
        "```{html}\n",
        "<div class=\"banner\">\n",
        "  <div class=\"translate-button\">\n",
        "    {{< include ../html/_translate_button.qmd >}}\n",
        "  </div>\n",
        "  <div class=\"link-out-button\">\n",
        "    {{< include ../html/_link_out.qmd >}}\n",
        "  </div>\n",
        "</div>\n",
        "\n",
        "```\n",
        "\n",
        "\n",
        "\n",
        "\n",
        "## 2023\n",
        "\n",
        ":::{#class_23}\n",
        ":::\n"
      ],
      "id": "6762f0d4"
    }
  ],
  "metadata": {
    "kernelspec": {
      "display_name": "Python 3",
      "language": "python",
      "name": "python3"
    }
  },
  "nbformat": 4,
  "nbformat_minor": 5
}